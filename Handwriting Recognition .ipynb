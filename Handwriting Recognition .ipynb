{
 "cells": [
  {
   "cell_type": "markdown",
   "id": "b026606d",
   "metadata": {},
   "source": [
    "##  Recognizing Handwritten digits with Scikit-learn\n",
    "\n",
    "### Load Dataset"
   ]
  },
  {
   "cell_type": "code",
   "execution_count": 1,
   "id": "834378b4",
   "metadata": {},
   "outputs": [],
   "source": [
    "from sklearn import datasets\n",
    "digits= datasets.load_digits()"
   ]
  },
  {
   "cell_type": "markdown",
   "id": "36c6542c",
   "metadata": {},
   "source": [
    "### Texual Description of dataset "
   ]
  },
  {
   "cell_type": "code",
   "execution_count": 2,
   "id": "c808c4e0",
   "metadata": {},
   "outputs": [
    {
     "name": "stdout",
     "output_type": "stream",
     "text": [
      ".. _digits_dataset:\n",
      "\n",
      "Optical recognition of handwritten digits dataset\n",
      "--------------------------------------------------\n",
      "\n",
      "**Data Set Characteristics:**\n",
      "\n",
      "    :Number of Instances: 1797\n",
      "    :Number of Attributes: 64\n",
      "    :Attribute Information: 8x8 image of integer pixels in the range 0..16.\n",
      "    :Missing Attribute Values: None\n",
      "    :Creator: E. Alpaydin (alpaydin '@' boun.edu.tr)\n",
      "    :Date: July; 1998\n",
      "\n",
      "This is a copy of the test set of the UCI ML hand-written digits datasets\n",
      "https://archive.ics.uci.edu/ml/datasets/Optical+Recognition+of+Handwritten+Digits\n",
      "\n",
      "The data set contains images of hand-written digits: 10 classes where\n",
      "each class refers to a digit.\n",
      "\n",
      "Preprocessing programs made available by NIST were used to extract\n",
      "normalized bitmaps of handwritten digits from a preprinted form. From a\n",
      "total of 43 people, 30 contributed to the training set and different 13\n",
      "to the test set. 32x32 bitmaps are divided into nonoverlapping blocks of\n",
      "4x4 and the number of on pixels are counted in each block. This generates\n",
      "an input matrix of 8x8 where each element is an integer in the range\n",
      "0..16. This reduces dimensionality and gives invariance to small\n",
      "distortions.\n",
      "\n",
      "For info on NIST preprocessing routines, see M. D. Garris, J. L. Blue, G.\n",
      "T. Candela, D. L. Dimmick, J. Geist, P. J. Grother, S. A. Janet, and C.\n",
      "L. Wilson, NIST Form-Based Handprint Recognition System, NISTIR 5469,\n",
      "1994.\n",
      "\n",
      ".. topic:: References\n",
      "\n",
      "  - C. Kaynak (1995) Methods of Combining Multiple Classifiers and Their\n",
      "    Applications to Handwritten Digit Recognition, MSc Thesis, Institute of\n",
      "    Graduate Studies in Science and Engineering, Bogazici University.\n",
      "  - E. Alpaydin, C. Kaynak (1998) Cascading Classifiers, Kybernetika.\n",
      "  - Ken Tang and Ponnuthurai N. Suganthan and Xi Yao and A. Kai Qin.\n",
      "    Linear dimensionalityreduction using relevance weighted LDA. School of\n",
      "    Electrical and Electronic Engineering Nanyang Technological University.\n",
      "    2005.\n",
      "  - Claudio Gentile. A New Approximate Maximal Margin Classification\n",
      "    Algorithm. NIPS. 2000.\n",
      "\n"
     ]
    }
   ],
   "source": [
    "print(digits.DESCR)"
   ]
  },
  {
   "cell_type": "markdown",
   "id": "d7c5c55f",
   "metadata": {},
   "source": [
    "**The images of the handwritten digits are contained in a digits.images array. Each\n",
    "element of this array is an image that is represented by an 8x8 matrix of numerical values\n",
    "that correspond to a grayscale from white, with a value of 0, to black, with the value 15** "
   ]
  },
  {
   "cell_type": "code",
   "execution_count": 3,
   "id": "f2500d97",
   "metadata": {},
   "outputs": [
    {
     "data": {
      "text/plain": [
       "array([[ 0.,  0.,  5., 13.,  9.,  1.,  0.,  0.],\n",
       "       [ 0.,  0., 13., 15., 10., 15.,  5.,  0.],\n",
       "       [ 0.,  3., 15.,  2.,  0., 11.,  8.,  0.],\n",
       "       [ 0.,  4., 12.,  0.,  0.,  8.,  8.,  0.],\n",
       "       [ 0.,  5.,  8.,  0.,  0.,  9.,  8.,  0.],\n",
       "       [ 0.,  4., 11.,  0.,  1., 12.,  7.,  0.],\n",
       "       [ 0.,  2., 14.,  5., 10., 12.,  0.,  0.],\n",
       "       [ 0.,  0.,  6., 13., 10.,  0.,  0.,  0.]])"
      ]
     },
     "execution_count": 3,
     "metadata": {},
     "output_type": "execute_result"
    }
   ],
   "source": [
    "digits.images[0]"
   ]
  },
  {
   "cell_type": "markdown",
   "id": "6fc1e078",
   "metadata": {},
   "source": [
    "#### Visualizing an array"
   ]
  },
  {
   "cell_type": "code",
   "execution_count": 4,
   "id": "9e5aaa2f",
   "metadata": {},
   "outputs": [
    {
     "data": {
      "image/png": "[encoded data removed]",
      "text/plain": [
       "<Figure size 432x288 with 1 Axes>"
      ]
     },
     "metadata": {
      "needs_background": "light"
     },
     "output_type": "display_data"
    }
   ],
   "source": [
    "import matplotlib.pyplot as plt \n",
    "%matplotlib inline\n",
    "plt.imshow(digits.images[0],cmap=plt.cm.gray_r , interpolation='nearest')\n",
    "plt.title('visualizing an array')\n",
    "#save the figure\n",
    "plt.savefig('digit1.png',dpi=100, bbox_inches='tight')"
   ]
  },
  {
   "cell_type": "code",
   "execution_count": 5,
   "id": "0e8a2f83",
   "metadata": {},
   "outputs": [
    {
     "data": {
      "text/plain": [
       "array([0, 1, 2, ..., 8, 9, 8])"
      ]
     },
     "execution_count": 5,
     "metadata": {},
     "output_type": "execute_result"
    }
   ],
   "source": [
    "#The numerical values represented by images, i.e., the targets, are contained in the digit.targets array.\n",
    "digits.target"
   ]
  },
  {
   "cell_type": "code",
   "execution_count": 6,
   "id": "25b7ba02",
   "metadata": {},
   "outputs": [
    {
     "data": {
      "text/plain": [
       "1797"
      ]
     },
     "execution_count": 6,
     "metadata": {},
     "output_type": "execute_result"
    }
   ],
   "source": [
    "digits.target.size"
   ]
  },
  {
   "cell_type": "code",
   "execution_count": 7,
   "id": "67015337",
   "metadata": {},
   "outputs": [
    {
     "data": {
      "text/plain": [
       "(1797, 64)"
      ]
     },
     "execution_count": 7,
     "metadata": {},
     "output_type": "execute_result"
    }
   ],
   "source": [
    "digits.data.shape"
   ]
  },
  {
   "cell_type": "markdown",
   "id": "927ffe26",
   "metadata": {},
   "source": [
    "### Visualization of the 10 digits"
   ]
  },
  {
   "cell_type": "code",
   "execution_count": 8,
   "id": "de467367",
   "metadata": {},
   "outputs": [
    {
     "data": {
      "image/png": "[encoded data removed]",
      "text/plain": [
       "<Figure size 1080x288 with 10 Axes>"
      ]
     },
     "metadata": {
      "needs_background": "light"
     },
     "output_type": "display_data"
    }
   ],
   "source": [
    "import numpy as np\n",
    "plt.figure(figsize=(15,4))\n",
    "plt.subplots_adjust(hspace=0.8)\n",
    "images_and_labels = list(zip(digits.images,digits.target)) \n",
    "\n",
    "for index , (image,label) in enumerate(images_and_labels[:10]) :\n",
    "    plt.subplot(2,5,index+1)\n",
    "    plt.imshow(image, cmap = plt.cm.gray_r, interpolation='nearest')\n",
    "    plt.title('Training: %i' %label , fontsize =12)"
   ]
  },
  {
   "cell_type": "markdown",
   "id": "84460273",
   "metadata": {},
   "source": [
    "#### Flatten the input images"
   ]
  },
  {
   "cell_type": "code",
   "execution_count": 9,
   "id": "ce3dde89",
   "metadata": {},
   "outputs": [
    {
     "name": "stdout",
     "output_type": "stream",
     "text": [
      "1797\n"
     ]
    }
   ],
   "source": [
    "n = len(digits.images)\n",
    "print(n)\n",
    "data = digits.images.reshape((n,-1))"
   ]
  },
  {
   "cell_type": "markdown",
   "id": "d2cc0460",
   "metadata": {},
   "source": [
    "### Split the dataset for training \n",
    "\n",
    "#### Define the model\n",
    "\n",
    "An estimator that is useful in this case is sklearn.svm.SVC,which uses the technique of **Support Vector Classification(SVC)**."
   ]
  },
  {
   "cell_type": "code",
   "execution_count": 10,
   "id": "02c3b675",
   "metadata": {},
   "outputs": [],
   "source": [
    "#import svm model\n",
    "from sklearn import svm\n",
    "#Create svm classifier\n",
    "svc= svm.SVC(gamma=0.001 , C=100.)"
   ]
  },
  {
   "cell_type": "markdown",
   "id": "54c03ff1",
   "metadata": {},
   "source": [
    "#### Test cases :\n",
    "We test the hypothesis by using three cases, each case for diffrent range of training and validation sets\n",
    "\n",
    "**Case 1: Here we have split the data by assigning 0.01 as test size**"
   ]
  },
  {
   "cell_type": "code",
   "execution_count": 11,
   "id": "e9c3f2ed",
   "metadata": {},
   "outputs": [],
   "source": [
    "from sklearn.model_selection import train_test_split\n",
    "x_train,x_test,y_train,y_test = train_test_split(data , digits.target,test_size=0.01, random_state=0)"
   ]
  },
  {
   "cell_type": "code",
   "execution_count": 12,
   "id": "736e2233",
   "metadata": {},
   "outputs": [
    {
     "data": {
      "text/plain": [
       "SVC(C=100.0, gamma=0.001)"
      ]
     },
     "execution_count": 12,
     "metadata": {},
     "output_type": "execute_result"
    }
   ],
   "source": [
    "svc.fit(x_train,y_train)"
   ]
  },
  {
   "cell_type": "code",
   "execution_count": 13,
   "id": "570b6cb8",
   "metadata": {},
   "outputs": [
    {
     "data": {
      "text/plain": [
       "array([2, 8, 2, 6, 6, 7, 1, 9, 8, 5, 2, 8, 6, 6, 6, 6, 1, 0])"
      ]
     },
     "execution_count": 13,
     "metadata": {},
     "output_type": "execute_result"
    }
   ],
   "source": [
    "y_pred= svc.predict(x_test)\n",
    "y_pred"
   ]
  },
  {
   "cell_type": "code",
   "execution_count": 14,
   "id": "dcf0e762",
   "metadata": {},
   "outputs": [
    {
     "data": {
      "image/png": "[encoded data removed]",
      "text/plain": [
       "<Figure size 1296x360 with 18 Axes>"
      ]
     },
     "metadata": {
      "needs_background": "light"
     },
     "output_type": "display_data"
    }
   ],
   "source": [
    "#test samples and their predicted digit value\n",
    "images_and_predictions = list(zip(x_test,y_pred))\n",
    "\n",
    "plt.figure(figsize=(18,5))\n",
    "for index,(image,prediction) in enumerate(images_and_predictions[:19]):\n",
    "    plt.subplot(2,9,index+1)\n",
    "    image= image.reshape(8,8)\n",
    "    plt.imshow(image,cmap=plt.cm.gray_r,interpolation='nearest')\n",
    "    plt.title('Prediction:%i'%prediction)\n",
    "    \n",
    "#save the figure\n",
    "plt.savefig('digit2.png',dpi=300, bbox_inches='tight')"
   ]
  },
  {
   "cell_type": "code",
   "execution_count": 15,
   "id": "20ff4318",
   "metadata": {},
   "outputs": [
    {
     "name": "stdout",
     "output_type": "stream",
     "text": [
      "Accuracy Score: 1.0\n"
     ]
    }
   ],
   "source": [
    "#Evaluation\n",
    "\n",
    "score = svc.score(x_test,y_test)\n",
    "print('Accuracy Score: {0}'.format(score))"
   ]
  },
  {
   "cell_type": "code",
   "execution_count": 16,
   "id": "225e09e2",
   "metadata": {},
   "outputs": [
    {
     "data": {
      "image/png": "[encoded data removed]",
      "text/plain": [
       "<Figure size 576x576 with 2 Axes>"
      ]
     },
     "metadata": {
      "needs_background": "light"
     },
     "output_type": "display_data"
    }
   ],
   "source": [
    "from sklearn.metrics import confusion_matrix\n",
    "import pandas as pd\n",
    "import seaborn as sn\n",
    "\n",
    "data= confusion_matrix(y_test,y_pred)\n",
    "df_cm = pd.DataFrame(data,columns=np.unique(y_test),index=np.unique(y_pred))\n",
    "df_cm.index.name='Actual'\n",
    "df_cm.columns.name = 'Predicted'\n",
    "\n",
    "plt.figure(figsize=(8,8))\n",
    "sn.set(font_scale=1.4) \n",
    "plt.title('Confusion Matrix')\n",
    "sn.heatmap(df_cm , annot = True , annot_kws = {\"size\":12})\n",
    "plt.savefig('digit3.png',dpi=200,bbox_inches='tight')"
   ]
  },
  {
   "cell_type": "code",
   "execution_count": 17,
   "id": "1586a710",
   "metadata": {},
   "outputs": [
    {
     "name": "stdout",
     "output_type": "stream",
     "text": [
      "Classification report for SVM classifier:\n",
      "\n",
      "               precision    recall  f1-score   support\n",
      "\n",
      "           0       1.00      1.00      1.00         1\n",
      "           1       1.00      1.00      1.00         2\n",
      "           2       1.00      1.00      1.00         3\n",
      "           5       1.00      1.00      1.00         1\n",
      "           6       1.00      1.00      1.00         6\n",
      "           7       1.00      1.00      1.00         1\n",
      "           8       1.00      1.00      1.00         3\n",
      "           9       1.00      1.00      1.00         1\n",
      "\n",
      "    accuracy                           1.00        18\n",
      "   macro avg       1.00      1.00      1.00        18\n",
      "weighted avg       1.00      1.00      1.00        18\n",
      "\n"
     ]
    }
   ],
   "source": [
    "from sklearn.metrics import classification_report\n",
    "cr=classification_report(y_test,y_pred)\n",
    "print(\"Classification report for SVM classifier:\\n\\n\",cr)"
   ]
  },
  {
   "cell_type": "markdown",
   "id": "b529aadf",
   "metadata": {},
   "source": [
    "**Case 2: Here we have split the data by assigning 0.7 as test size**\n",
    "\n"
   ]
  },
  {
   "cell_type": "code",
   "execution_count": 18,
   "id": "c7392a7f",
   "metadata": {},
   "outputs": [],
   "source": [
    "from sklearn.model_selection import train_test_split\n",
    "x_train, x_test, y_train,y_test =train_test_split(digits.data , digits.target,test_size=0.7, random_state=0) \n",
    "from sklearn import svm\n",
    "svc = svm.SVC(gamma=0.001 , C=100.)\n",
    "svc.fit(x_train , y_train)\n",
    "y_pred = svc.predict(x_test)"
   ]
  },
  {
   "cell_type": "code",
   "execution_count": 19,
   "id": "4e389b71",
   "metadata": {},
   "outputs": [
    {
     "name": "stdout",
     "output_type": "stream",
     "text": [
      "Accuracy Score:0.9841017488076311\n"
     ]
    }
   ],
   "source": [
    "score = svc.score(x_test , y_test)\n",
    "print('Accuracy Score:{0}'.format(score))"
   ]
  },
  {
   "cell_type": "markdown",
   "id": "78f7e13b",
   "metadata": {},
   "source": [
    "**Case 3: Here we have split the data by assigning 0.9 as test size**"
   ]
  },
  {
   "cell_type": "code",
   "execution_count": 20,
   "id": "c618c0c8",
   "metadata": {},
   "outputs": [],
   "source": [
    "from sklearn.model_selection import train_test_split\n",
    "x_train, x_test, y_train,y_test =train_test_split(digits.data , digits.target,test_size=0.9, random_state=0) \n",
    "from sklearn import svm\n",
    "svc = svm.SVC(gamma=0.001 , C=100.)\n",
    "svc.fit(x_train , y_train)\n",
    "y_pred = svc.predict(x_test)"
   ]
  },
  {
   "cell_type": "code",
   "execution_count": 21,
   "id": "7cb217b7",
   "metadata": {},
   "outputs": [
    {
     "name": "stdout",
     "output_type": "stream",
     "text": [
      "Accuracy Score:0.9684796044499382\n"
     ]
    }
   ],
   "source": [
    "score = svc.score(x_test , y_test)\n",
    "print('Accuracy Score:{0}'.format(score))"
   ]
  },
  {
   "cell_type": "markdown",
   "id": "b7ce070b",
   "metadata": {},
   "source": [
    "### Conclusion\n",
    "\n",
    "**This dataset predicts the digits accurately 95% of the times.**"
   ]
  }
 ],
 "metadata": {
  "kernelspec": {
   "display_name": "Python 3",
   "language": "python",
   "name": "python3"
  },
  "language_info": {
   "codemirror_mode": {
    "name": "ipython",
    "version": 3
   },
   "file_extension": ".py",
   "mimetype": "text/x-python",
   "name": "python",
   "nbconvert_exporter": "python",
   "pygments_lexer": "ipython3",
   "version": "3.8.8"
  }
 },
 "nbformat": 4,
 "nbformat_minor": 5
}
